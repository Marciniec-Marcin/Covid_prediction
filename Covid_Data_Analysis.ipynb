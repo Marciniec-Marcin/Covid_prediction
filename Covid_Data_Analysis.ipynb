{
 "cells": [
  {
   "cell_type": "code",
   "execution_count": 2,
   "id": "0b25f18c-11ab-4530-a418-1f886a9d9d27",
   "metadata": {},
   "outputs": [],
   "source": [
    "import pandas as pd\n",
    "import numpy as np\n",
    "import seaborn as sns\n",
    "import matplotlib.pyplot as plt\n"
   ]
  },
  {
   "cell_type": "code",
   "execution_count": 3,
   "id": "d07c8cc7-a807-4deb-aa8b-d9da2e9ff77d",
   "metadata": {},
   "outputs": [
    {
     "data": {
      "text/html": [
       "<div>\n",
       "<style scoped>\n",
       "    .dataframe tbody tr th:only-of-type {\n",
       "        vertical-align: middle;\n",
       "    }\n",
       "\n",
       "    .dataframe tbody tr th {\n",
       "        vertical-align: top;\n",
       "    }\n",
       "\n",
       "    .dataframe thead th {\n",
       "        text-align: right;\n",
       "    }\n",
       "</style>\n",
       "<table border=\"1\" class=\"dataframe\">\n",
       "  <thead>\n",
       "    <tr style=\"text-align: right;\">\n",
       "      <th></th>\n",
       "      <th>Date</th>\n",
       "      <th>Region_ID</th>\n",
       "      <th>Daily_Cases</th>\n",
       "      <th>Daily_Deaths</th>\n",
       "      <th>Daily_Recoveries</th>\n",
       "      <th>Hospitalized</th>\n",
       "      <th>ICU_Patients</th>\n",
       "      <th>Vaccination_Rate (%)</th>\n",
       "      <th>Testing_Rate (%)</th>\n",
       "      <th>Lockdown_Severity</th>\n",
       "      <th>Mobility_Index (%)</th>\n",
       "      <th>Total_Active_Cases</th>\n",
       "    </tr>\n",
       "  </thead>\n",
       "  <tbody>\n",
       "    <tr>\n",
       "      <th>0</th>\n",
       "      <td>2022-05-10</td>\n",
       "      <td>27</td>\n",
       "      <td>4733</td>\n",
       "      <td>328</td>\n",
       "      <td>3368</td>\n",
       "      <td>1656</td>\n",
       "      <td>280</td>\n",
       "      <td>37.60</td>\n",
       "      <td>20.35</td>\n",
       "      <td>4</td>\n",
       "      <td>70.43</td>\n",
       "      <td>1037</td>\n",
       "    </tr>\n",
       "    <tr>\n",
       "      <th>1</th>\n",
       "      <td>2022-11-10</td>\n",
       "      <td>54</td>\n",
       "      <td>3663</td>\n",
       "      <td>282</td>\n",
       "      <td>2629</td>\n",
       "      <td>1896</td>\n",
       "      <td>350</td>\n",
       "      <td>49.67</td>\n",
       "      <td>19.46</td>\n",
       "      <td>1</td>\n",
       "      <td>66.52</td>\n",
       "      <td>752</td>\n",
       "    </tr>\n",
       "    <tr>\n",
       "      <th>2</th>\n",
       "      <td>2020-05-01</td>\n",
       "      <td>4</td>\n",
       "      <td>3254</td>\n",
       "      <td>391</td>\n",
       "      <td>2846</td>\n",
       "      <td>1544</td>\n",
       "      <td>467</td>\n",
       "      <td>35.99</td>\n",
       "      <td>23.04</td>\n",
       "      <td>5</td>\n",
       "      <td>63.98</td>\n",
       "      <td>17</td>\n",
       "    </tr>\n",
       "    <tr>\n",
       "      <th>3</th>\n",
       "      <td>2021-04-11</td>\n",
       "      <td>88</td>\n",
       "      <td>3381</td>\n",
       "      <td>197</td>\n",
       "      <td>528</td>\n",
       "      <td>1089</td>\n",
       "      <td>341</td>\n",
       "      <td>65.70</td>\n",
       "      <td>21.18</td>\n",
       "      <td>0</td>\n",
       "      <td>89.76</td>\n",
       "      <td>2656</td>\n",
       "    </tr>\n",
       "    <tr>\n",
       "      <th>4</th>\n",
       "      <td>2020-11-26</td>\n",
       "      <td>23</td>\n",
       "      <td>2064</td>\n",
       "      <td>483</td>\n",
       "      <td>136</td>\n",
       "      <td>482</td>\n",
       "      <td>357</td>\n",
       "      <td>93.59</td>\n",
       "      <td>7.30</td>\n",
       "      <td>6</td>\n",
       "      <td>68.89</td>\n",
       "      <td>1445</td>\n",
       "    </tr>\n",
       "  </tbody>\n",
       "</table>\n",
       "</div>"
      ],
      "text/plain": [
       "         Date  Region_ID  Daily_Cases  Daily_Deaths  Daily_Recoveries  \\\n",
       "0  2022-05-10         27         4733           328              3368   \n",
       "1  2022-11-10         54         3663           282              2629   \n",
       "2  2020-05-01          4         3254           391              2846   \n",
       "3  2021-04-11         88         3381           197               528   \n",
       "4  2020-11-26         23         2064           483               136   \n",
       "\n",
       "   Hospitalized  ICU_Patients  Vaccination_Rate (%)  Testing_Rate (%)  \\\n",
       "0          1656           280                 37.60             20.35   \n",
       "1          1896           350                 49.67             19.46   \n",
       "2          1544           467                 35.99             23.04   \n",
       "3          1089           341                 65.70             21.18   \n",
       "4           482           357                 93.59              7.30   \n",
       "\n",
       "   Lockdown_Severity  Mobility_Index (%)  Total_Active_Cases  \n",
       "0                  4               70.43                1037  \n",
       "1                  1               66.52                 752  \n",
       "2                  5               63.98                  17  \n",
       "3                  0               89.76                2656  \n",
       "4                  6               68.89                1445  "
      ]
     },
     "execution_count": 3,
     "metadata": {},
     "output_type": "execute_result"
    }
   ],
   "source": [
    "df = pd.read_csv(\"DataSet.csv\")\n",
    "df.head()"
   ]
  },
  {
   "cell_type": "code",
   "execution_count": 4,
   "id": "d2a75e24-fec8-4874-8086-65d32fd351ad",
   "metadata": {},
   "outputs": [
    {
     "name": "stdout",
     "output_type": "stream",
     "text": [
      "<class 'pandas.core.frame.DataFrame'>\n",
      "RangeIndex: 10000 entries, 0 to 9999\n",
      "Data columns (total 12 columns):\n",
      " #   Column                Non-Null Count  Dtype  \n",
      "---  ------                --------------  -----  \n",
      " 0   Date                  10000 non-null  object \n",
      " 1   Region_ID             10000 non-null  int64  \n",
      " 2   Daily_Cases           10000 non-null  int64  \n",
      " 3   Daily_Deaths          10000 non-null  int64  \n",
      " 4   Daily_Recoveries      10000 non-null  int64  \n",
      " 5   Hospitalized          10000 non-null  int64  \n",
      " 6   ICU_Patients          10000 non-null  int64  \n",
      " 7   Vaccination_Rate (%)  10000 non-null  float64\n",
      " 8   Testing_Rate (%)      10000 non-null  float64\n",
      " 9   Lockdown_Severity     10000 non-null  int64  \n",
      " 10  Mobility_Index (%)    10000 non-null  float64\n",
      " 11  Total_Active_Cases    10000 non-null  int64  \n",
      "dtypes: float64(3), int64(8), object(1)\n",
      "memory usage: 937.6+ KB\n"
     ]
    }
   ],
   "source": [
    "df.info()\n"
   ]
  },
  {
   "cell_type": "code",
   "execution_count": 5,
   "id": "db78d4bc-c229-4b18-a65c-57c57f14376c",
   "metadata": {},
   "outputs": [
    {
     "data": {
      "text/plain": [
       "Date                    0\n",
       "Region_ID               0\n",
       "Daily_Cases             0\n",
       "Daily_Deaths            0\n",
       "Daily_Recoveries        0\n",
       "Hospitalized            0\n",
       "ICU_Patients            0\n",
       "Vaccination_Rate (%)    0\n",
       "Testing_Rate (%)        0\n",
       "Lockdown_Severity       0\n",
       "Mobility_Index (%)      0\n",
       "Total_Active_Cases      0\n",
       "dtype: int64"
      ]
     },
     "execution_count": 5,
     "metadata": {},
     "output_type": "execute_result"
    }
   ],
   "source": [
    "df.isnull().sum()"
   ]
  },
  {
   "cell_type": "code",
   "execution_count": null,
   "id": "aaac09bc-4150-44aa-a971-b0bcb0916df8",
   "metadata": {},
   "outputs": [],
   "source": []
  }
 ],
 "metadata": {
  "kernelspec": {
   "display_name": "Python 3 (ipykernel)",
   "language": "python",
   "name": "python3"
  },
  "language_info": {
   "codemirror_mode": {
    "name": "ipython",
    "version": 3
   },
   "file_extension": ".py",
   "mimetype": "text/x-python",
   "name": "python",
   "nbconvert_exporter": "python",
   "pygments_lexer": "ipython3",
   "version": "3.11.11"
  }
 },
 "nbformat": 4,
 "nbformat_minor": 5
}
